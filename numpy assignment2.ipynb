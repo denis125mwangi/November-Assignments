{
 "cells": [
  {
   "cell_type": "code",
   "execution_count": 9,
   "id": "722faffd",
   "metadata": {},
   "outputs": [],
   "source": [
    "import numpy as np"
   ]
  },
  {
   "cell_type": "code",
   "execution_count": 2,
   "id": "6ba24727",
   "metadata": {},
   "outputs": [],
   "source": [
    "heights = np.array([160, 155, 172, 165, 180, 158, 175, 163, 171, 168])"
   ]
  },
  {
   "cell_type": "code",
   "execution_count": 3,
   "id": "2477ddca",
   "metadata": {},
   "outputs": [
    {
     "name": "stdout",
     "output_type": "stream",
     "text": [
      "[160 155 172 165 180 158 175 163 171 168]\n"
     ]
    }
   ],
   "source": [
    "print(heights)"
   ]
  },
  {
   "cell_type": "code",
   "execution_count": 4,
   "id": "a66bfc35",
   "metadata": {},
   "outputs": [
    {
     "name": "stdout",
     "output_type": "stream",
     "text": [
      "166.7\n"
     ]
    }
   ],
   "source": [
    "heights_mean=np.mean(heights)\n",
    "print(heights_mean)"
   ]
  },
  {
   "cell_type": "code",
   "execution_count": 10,
   "id": "ab83800a",
   "metadata": {},
   "outputs": [
    {
     "name": "stdout",
     "output_type": "stream",
     "text": [
      "mean height is 180\n"
     ]
    }
   ],
   "source": [
    "heights_max=np.max(heights)\n",
    "print(\"max height is\", heights_max)"
   ]
  },
  {
   "cell_type": "code",
   "execution_count": 11,
   "id": "6aa4d228",
   "metadata": {},
   "outputs": [
    {
     "name": "stdout",
     "output_type": "stream",
     "text": [
      "7.5372408744845085\n"
     ]
    }
   ],
   "source": [
    "heights_std=np.std(heights)\n",
    "print(heights_std)"
   ]
  },
  {
   "cell_type": "code",
   "execution_count": 12,
   "id": "27fa13c5",
   "metadata": {},
   "outputs": [
    {
     "name": "stdout",
     "output_type": "stream",
     "text": [
      "4\n"
     ]
    }
   ],
   "source": [
    "heights_argmax=np.argmax(heights)\n",
    "print(heights_argmax)"
   ]
  },
  {
   "cell_type": "code",
   "execution_count": 13,
   "id": "d09b1bf9",
   "metadata": {},
   "outputs": [
    {
     "name": "stdout",
     "output_type": "stream",
     "text": [
      "1\n"
     ]
    }
   ],
   "source": [
    "heights_argmin=np.argmin(heights)\n",
    "print(heights_argmin)"
   ]
  },
  {
   "cell_type": "code",
   "execution_count": 20,
   "id": "d2ebfddc",
   "metadata": {},
   "outputs": [
    {
     "name": "stdout",
     "output_type": "stream",
     "text": [
      "25\n"
     ]
    }
   ],
   "source": [
    "heights_argmax=np.argmax(heights)\n",
    "heights_argmin=np.argmin(heights)\n",
    "difference_heights=heights[heights_argmax]-heights[heights_argmin]\n",
    "print(difference_heights)"
   ]
  },
  {
   "cell_type": "code",
   "execution_count": 23,
   "id": "fdc1f259",
   "metadata": {},
   "outputs": [
    {
     "name": "stdout",
     "output_type": "stream",
     "text": [
      "[165 175 172 171 163]\n"
     ]
    }
   ],
   "source": [
    "random_heights=np.random.choice(heights,5,replace=False)\n",
    "print(random_heights)"
   ]
  },
  {
   "cell_type": "code",
   "execution_count": 26,
   "id": "4e183cda",
   "metadata": {},
   "outputs": [
    {
     "name": "stdout",
     "output_type": "stream",
     "text": [
      "[172 165 168 163 168]\n"
     ]
    }
   ],
   "source": [
    "random_heights_replacement=np.random.choice(heights,5,replace=True)\n",
    "print(random_heights_replacement)"
   ]
  },
  {
   "cell_type": "code",
   "execution_count": null,
   "id": "9dbfa5ef",
   "metadata": {},
   "outputs": [],
   "source": []
  },
  {
   "cell_type": "code",
   "execution_count": null,
   "id": "2207ddcd",
   "metadata": {},
   "outputs": [],
   "source": []
  }
 ],
 "metadata": {
  "kernelspec": {
   "display_name": "Python 3 (ipykernel)",
   "language": "python",
   "name": "python3"
  },
  "language_info": {
   "codemirror_mode": {
    "name": "ipython",
    "version": 3
   },
   "file_extension": ".py",
   "mimetype": "text/x-python",
   "name": "python",
   "nbconvert_exporter": "python",
   "pygments_lexer": "ipython3",
   "version": "3.11.5"
  }
 },
 "nbformat": 4,
 "nbformat_minor": 5
}
